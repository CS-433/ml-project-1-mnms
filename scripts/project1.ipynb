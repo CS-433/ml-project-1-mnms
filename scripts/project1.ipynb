{
 "cells": [
  {
   "cell_type": "code",
   "execution_count": 1,
   "metadata": {},
   "outputs": [],
   "source": [
    "# Useful starting lines\n",
    "%matplotlib inline\n",
    "import numpy as np\n",
    "import matplotlib.pyplot as plt\n",
    "%load_ext autoreload\n",
    "%autoreload 2"
   ]
  },
  {
   "cell_type": "markdown",
   "metadata": {},
   "source": [
    "## Load the data (both train and test data) into feature matrix, class labels, and event ids:\n"
   ]
  },
  {
   "cell_type": "code",
   "execution_count": 2,
   "metadata": {},
   "outputs": [],
   "source": [
    "from proj1_helpers import *"
   ]
  },
  {
   "cell_type": "code",
   "execution_count": 3,
   "metadata": {},
   "outputs": [],
   "source": [
    "DATA_TRAIN_PATH = '../data/train.csv'\n",
    "y, train_input_data, ids = load_csv_data(DATA_TRAIN_PATH)"
   ]
  },
  {
   "cell_type": "code",
   "execution_count": 4,
   "metadata": {},
   "outputs": [],
   "source": [
    "DATA_TEST_PATH = '../data/test.csv' \n",
    "y_test, test_input_data, ids_test = load_csv_data(DATA_TEST_PATH)"
   ]
  },
  {
   "cell_type": "code",
   "execution_count": 5,
   "metadata": {
    "scrolled": false
   },
   "outputs": [
    {
     "data": {
      "text/plain": [
       "((250000, 30), (250000,))"
      ]
     },
     "execution_count": 5,
     "metadata": {},
     "output_type": "execute_result"
    }
   ],
   "source": [
    "train_input_data.shape, y.shape"
   ]
  },
  {
   "cell_type": "code",
   "execution_count": 6,
   "metadata": {
    "scrolled": true
   },
   "outputs": [
    {
     "data": {
      "text/plain": [
       "((568238, 30), (568238,))"
      ]
     },
     "execution_count": 6,
     "metadata": {},
     "output_type": "execute_result"
    }
   ],
   "source": [
    "test_input_data.shape, y_test.shape"
   ]
  },
  {
   "cell_type": "markdown",
   "metadata": {},
   "source": [
    "## Preprocess the data"
   ]
  },
  {
   "cell_type": "code",
   "execution_count": 7,
   "metadata": {},
   "outputs": [],
   "source": [
    "from preprocessing import *"
   ]
  },
  {
   "cell_type": "code",
   "execution_count": 8,
   "metadata": {},
   "outputs": [],
   "source": [
    "tX = preprocess_data(train_input_data)"
   ]
  },
  {
   "cell_type": "code",
   "execution_count": 9,
   "metadata": {},
   "outputs": [],
   "source": [
    "tX_test = preprocess_data(test_input_data)"
   ]
  },
  {
   "cell_type": "markdown",
   "metadata": {},
   "source": [
    "## Do your thing crazy machine learning thing here :) "
   ]
  },
  {
   "cell_type": "code",
   "execution_count": 10,
   "metadata": {},
   "outputs": [],
   "source": [
    "from implementations import *\n",
    "from cross_validation import *\n",
    "import time"
   ]
  },
  {
   "cell_type": "markdown",
   "metadata": {},
   "source": [
    "For each model, we will use 4-fold cross-validation to find optimal hyper-parameters. Then we run our model with those parameters and produce the submissions"
   ]
  },
  {
   "cell_type": "code",
   "execution_count": 11,
   "metadata": {},
   "outputs": [],
   "source": [
    "k_fold = 4"
   ]
  },
  {
   "cell_type": "markdown",
   "metadata": {},
   "source": [
    "Then we use 5-fold cross-validation to compute variance of accurancy and loss"
   ]
  },
  {
   "cell_type": "markdown",
   "metadata": {},
   "source": [
    "### Linear Regression Using Gradient Descent"
   ]
  },
  {
   "cell_type": "code",
   "execution_count": 12,
   "metadata": {},
   "outputs": [],
   "source": [
    "# seed is updated each time it is used for unbiased results\n",
    "seed = 1"
   ]
  },
  {
   "cell_type": "code",
   "execution_count": 13,
   "metadata": {},
   "outputs": [],
   "source": [
    "degree_GD = 2\n",
    "gamma_GD = 1E-2\n",
    "max_iters_GD = 100"
   ]
  },
  {
   "cell_type": "code",
   "execution_count": 14,
   "metadata": {},
   "outputs": [],
   "source": [
    "# build polynomials\n",
    "extended_feature_matrix_train = build_poly(tX, degree_GD)\n",
    "extended_feature_matrix_test = build_poly(tX_test, degree_GD)"
   ]
  },
  {
   "cell_type": "code",
   "execution_count": 15,
   "metadata": {
    "scrolled": true
   },
   "outputs": [],
   "source": [
    "initial_w = np.zeros((extended_feature_matrix_train.shape[1]))\n",
    "\n",
    "weights_GD, loss_GD = least_squares_GD(y, extended_feature_matrix_train, initial_w, max_iters_GD, gamma_GD)"
   ]
  },
  {
   "cell_type": "code",
   "execution_count": 16,
   "metadata": {},
   "outputs": [
    {
     "data": {
      "text/plain": [
       "0.32282209525914896"
      ]
     },
     "execution_count": 16,
     "metadata": {},
     "output_type": "execute_result"
    }
   ],
   "source": [
    "loss_GD"
   ]
  },
  {
   "cell_type": "code",
   "execution_count": 17,
   "metadata": {},
   "outputs": [
    {
     "data": {
      "text/plain": [
       "0.769"
      ]
     },
     "execution_count": 17,
     "metadata": {},
     "output_type": "execute_result"
    }
   ],
   "source": [
    "# train accuracy\n",
    "accuracy(y, extended_feature_matrix_train, weights_GD)"
   ]
  },
  {
   "cell_type": "code",
   "execution_count": 18,
   "metadata": {
    "scrolled": true
   },
   "outputs": [
    {
     "data": {
      "text/plain": [
       "0.24312699960227932"
      ]
     },
     "execution_count": 18,
     "metadata": {},
     "output_type": "execute_result"
    }
   ],
   "source": [
    "# test accuracy\n",
    "accuracy(y_test, extended_feature_matrix_test, weights_GD)"
   ]
  },
  {
   "cell_type": "code",
   "execution_count": 19,
   "metadata": {},
   "outputs": [],
   "source": [
    "# cross-validation for accuracy\n",
    "rmse_tr_GD, rmse_te_GD, acc_GD = error_accuracy_validation(y, tX, k_fold, degree_GD, 'least_squares_GD', 0, max_iters_GD, gamma_GD, seed)"
   ]
  },
  {
   "cell_type": "code",
   "execution_count": 20,
   "metadata": {},
   "outputs": [
    {
     "data": {
      "text/plain": [
       "(0.7689266666666665, 0.00020763643439648658)"
      ]
     },
     "execution_count": 20,
     "metadata": {},
     "output_type": "execute_result"
    }
   ],
   "source": [
    "# accuracy mean and std\n",
    "np.mean(acc_GD), np.std(acc_GD)"
   ]
  },
  {
   "cell_type": "markdown",
   "metadata": {},
   "source": [
    "### Linear Regression using SGD"
   ]
  },
  {
   "cell_type": "code",
   "execution_count": 21,
   "metadata": {},
   "outputs": [],
   "source": [
    "seed = 2"
   ]
  },
  {
   "cell_type": "code",
   "execution_count": 22,
   "metadata": {},
   "outputs": [],
   "source": [
    "degree_SGD = 2\n",
    "gamma_SGD = 1E-7\n",
    "max_iters_SGD = 2000"
   ]
  },
  {
   "cell_type": "code",
   "execution_count": 23,
   "metadata": {},
   "outputs": [],
   "source": [
    "# build polynomials\n",
    "extended_feature_matrix_train = build_poly(tX, degree_SGD)\n",
    "extended_feature_matrix_test = build_poly(tX_test, degree_SGD)"
   ]
  },
  {
   "cell_type": "code",
   "execution_count": 24,
   "metadata": {},
   "outputs": [],
   "source": [
    "np.random.seed(42)\n",
    "\n",
    "initial_w = np.zeros((extended_feature_matrix_train.shape[1]))\n",
    "\n",
    "weights_SGD, loss_SGD = least_squares_SGD(y, extended_feature_matrix_train, initial_w, max_iters_SGD, gamma_SGD)"
   ]
  },
  {
   "cell_type": "code",
   "execution_count": 25,
   "metadata": {},
   "outputs": [
    {
     "data": {
      "text/plain": [
       "0.4992347787408522"
      ]
     },
     "execution_count": 25,
     "metadata": {},
     "output_type": "execute_result"
    }
   ],
   "source": [
    "loss_SGD"
   ]
  },
  {
   "cell_type": "code",
   "execution_count": 26,
   "metadata": {},
   "outputs": [
    {
     "data": {
      "text/plain": [
       "0.68166"
      ]
     },
     "execution_count": 26,
     "metadata": {},
     "output_type": "execute_result"
    }
   ],
   "source": [
    "# train accuracy\n",
    "accuracy(y, extended_feature_matrix_train, weights_SGD)"
   ]
  },
  {
   "cell_type": "code",
   "execution_count": 27,
   "metadata": {},
   "outputs": [
    {
     "data": {
      "text/plain": [
       "0.03530738880539492"
      ]
     },
     "execution_count": 27,
     "metadata": {},
     "output_type": "execute_result"
    }
   ],
   "source": [
    "# test accuracy\n",
    "accuracy(y_test, extended_feature_matrix_test, weights_SGD)"
   ]
  },
  {
   "cell_type": "code",
   "execution_count": 28,
   "metadata": {},
   "outputs": [],
   "source": [
    "# cross-validation for accuracy\n",
    "rmse_tr_SGD, rmse_te_SGD, acc_SGD = error_accuracy_validation(y, tX, k_fold, degree_SGD, 'least_squares_SGD', 0, max_iters_SGD, gamma_SGD, seed)"
   ]
  },
  {
   "cell_type": "code",
   "execution_count": 29,
   "metadata": {
    "scrolled": true
   },
   "outputs": [
    {
     "data": {
      "text/plain": [
       "(0.6817586666666667, 0.008883831305617335)"
      ]
     },
     "execution_count": 29,
     "metadata": {},
     "output_type": "execute_result"
    }
   ],
   "source": [
    "# accuracy mean and std\n",
    "np.mean(acc_SGD), np.std(acc_SGD)"
   ]
  },
  {
   "cell_type": "markdown",
   "metadata": {},
   "source": [
    "### Least Squares regression"
   ]
  },
  {
   "cell_type": "code",
   "execution_count": 30,
   "metadata": {},
   "outputs": [],
   "source": [
    "# seed is updated each time it is used for unbiased results\n",
    "seed = 3"
   ]
  },
  {
   "cell_type": "code",
   "execution_count": 31,
   "metadata": {},
   "outputs": [],
   "source": [
    "degree_LS = 1"
   ]
  },
  {
   "cell_type": "code",
   "execution_count": 32,
   "metadata": {},
   "outputs": [],
   "source": [
    "# build polynomials\n",
    "extended_feature_matrix_train = build_poly(tX, degree_LS)\n",
    "extended_feature_matrix_test = build_poly(tX_test, degree_LS)"
   ]
  },
  {
   "cell_type": "code",
   "execution_count": 33,
   "metadata": {
    "scrolled": true
   },
   "outputs": [],
   "source": [
    "weights_LS, loss_LS = least_squares(y, extended_feature_matrix_train)"
   ]
  },
  {
   "cell_type": "code",
   "execution_count": 34,
   "metadata": {
    "scrolled": true
   },
   "outputs": [
    {
     "data": {
      "text/plain": [
       "0.741136"
      ]
     },
     "execution_count": 34,
     "metadata": {},
     "output_type": "execute_result"
    }
   ],
   "source": [
    "# train accuracy\n",
    "accuracy(y, tX, weights_LS)"
   ]
  },
  {
   "cell_type": "code",
   "execution_count": 35,
   "metadata": {
    "scrolled": true
   },
   "outputs": [
    {
     "data": {
      "text/plain": [
       "0.2529521080955515"
      ]
     },
     "execution_count": 35,
     "metadata": {},
     "output_type": "execute_result"
    }
   ],
   "source": [
    "# test accuracy\n",
    "accuracy(y_test, tX_test, weights_LS)"
   ]
  },
  {
   "cell_type": "code",
   "execution_count": 36,
   "metadata": {},
   "outputs": [],
   "source": [
    "# cross-validation for accuracy\n",
    "rmse_tr_LS, rmse_te_LS, acc_LS = error_accuracy_validation(y, tX, k_fold, 1, 'least_squares', 0, 0, 0, seed)"
   ]
  },
  {
   "cell_type": "code",
   "execution_count": 37,
   "metadata": {},
   "outputs": [
    {
     "data": {
      "text/plain": [
       "(0.7410906666666667, 0.00018782497763136487)"
      ]
     },
     "execution_count": 37,
     "metadata": {},
     "output_type": "execute_result"
    }
   ],
   "source": [
    "# accuracy mean and std\n",
    "np.mean(acc_LS), np.std(acc_LS)"
   ]
  },
  {
   "cell_type": "markdown",
   "metadata": {},
   "source": [
    "### Logistic regression using gradient descent"
   ]
  },
  {
   "cell_type": "code",
   "execution_count": 38,
   "metadata": {},
   "outputs": [],
   "source": [
    "# for unbiased results, seed is updated each time it is used\n",
    "seed = 4"
   ]
  },
  {
   "cell_type": "code",
   "execution_count": null,
   "metadata": {},
   "outputs": [],
   "source": [
    "degree_LOG = 3\n",
    "max_iters_LOG = 800 \n",
    "gamma_LOG = 1.550482e-7"
   ]
  },
  {
   "cell_type": "code",
   "execution_count": 40,
   "metadata": {},
   "outputs": [],
   "source": [
    "# build polynomials\n",
    "extended_feature_matrix_train = build_poly(tX, degree_LOG)\n",
    "extended_feature_matrix_test = build_poly(tX_test, degree_LOG)"
   ]
  },
  {
   "cell_type": "code",
   "execution_count": 41,
   "metadata": {},
   "outputs": [],
   "source": [
    "# We need to transform the categories from {-1,1} to {0,1}\n",
    "y_01 = change_11_to_01_categories(y)"
   ]
  },
  {
   "cell_type": "code",
   "execution_count": 42,
   "metadata": {
    "scrolled": true
   },
   "outputs": [],
   "source": [
    "initial_w = np.zeros((extended_feature_matrix_train.shape[1]))\n",
    "\n",
    "weights_LOG, loss_LOG = logistic_regression(y_01, extended_feature_matrix_train, initial_w, max_iters_LOG, gamma_LOG)"
   ]
  },
  {
   "cell_type": "code",
   "execution_count": 43,
   "metadata": {
    "scrolled": true
   },
   "outputs": [
    {
     "data": {
      "text/plain": [
       "0.7709"
      ]
     },
     "execution_count": 43,
     "metadata": {},
     "output_type": "execute_result"
    }
   ],
   "source": [
    "# train accuracy\n",
    "accuracy(y, extended_feature_matrix_train, weights_LOG)"
   ]
  },
  {
   "cell_type": "code",
   "execution_count": 44,
   "metadata": {
    "scrolled": false
   },
   "outputs": [
    {
     "data": {
      "text/plain": [
       "0.3919924397875538"
      ]
     },
     "execution_count": 44,
     "metadata": {},
     "output_type": "execute_result"
    }
   ],
   "source": [
    "# test accuracy\n",
    "accuracy(y_test, extended_feature_matrix_test, weights_LOG)"
   ]
  },
  {
   "cell_type": "code",
   "execution_count": 45,
   "metadata": {},
   "outputs": [],
   "source": [
    "# cross-validation for accuracy\n",
    "rmse_tr_LOG, rmse_te_LOG, acc_LOG = error_accuracy_validation(y, tX, k_fold, degree_LOG, 'logistic_regression', 0, max_iters_LOG, gamma_LOG, seed)"
   ]
  },
  {
   "cell_type": "code",
   "execution_count": 46,
   "metadata": {},
   "outputs": [
    {
     "data": {
      "text/plain": [
       "(0.7299893333333334, 0.02184250274630226)"
      ]
     },
     "execution_count": 46,
     "metadata": {},
     "output_type": "execute_result"
    }
   ],
   "source": [
    "# accuracy mean and std\n",
    "np.mean(acc_LOG), np.std(acc_LOG)"
   ]
  },
  {
   "cell_type": "markdown",
   "metadata": {},
   "source": [
    "### Regularized logistic regression using gradient descent"
   ]
  },
  {
   "cell_type": "code",
   "execution_count": 47,
   "metadata": {},
   "outputs": [],
   "source": [
    "seed = 5"
   ]
  },
  {
   "cell_type": "code",
   "execution_count": 48,
   "metadata": {},
   "outputs": [],
   "source": [
    "degree_RLOG = 3\n",
    "max_iters_RLOG = 500\n",
    "lambda_RLOG = 1e-4\n",
    "gamma_RLOG = 1e-4"
   ]
  },
  {
   "cell_type": "code",
   "execution_count": 49,
   "metadata": {},
   "outputs": [],
   "source": [
    "# build polynomials\n",
    "extended_feature_matrix_train = build_poly(tX, degree_RLOG)\n",
    "extended_feature_matrix_test = build_poly(tX_test, degree_RLOG)"
   ]
  },
  {
   "cell_type": "code",
   "execution_count": 50,
   "metadata": {},
   "outputs": [],
   "source": [
    "# We need to transform the categories from {-1,1} to {0,1}\n",
    "y_01 = change_11_to_01_categories(y)"
   ]
  },
  {
   "cell_type": "code",
   "execution_count": 51,
   "metadata": {},
   "outputs": [],
   "source": [
    "initial_w = np.zeros((extended_feature_matrix_train.shape[1]))\n",
    "\n",
    "weights_RLOG, loss_RLOG = reg_logistic_regression(y_01, extended_feature_matrix_train, lambda_RLOG, initial_w, max_iters_RLOG, gamma_RLOG)"
   ]
  },
  {
   "cell_type": "code",
   "execution_count": 52,
   "metadata": {
    "scrolled": true
   },
   "outputs": [
    {
     "data": {
      "text/plain": [
       "0.766276"
      ]
     },
     "execution_count": 52,
     "metadata": {},
     "output_type": "execute_result"
    }
   ],
   "source": [
    "# train accuracy\n",
    "accuracy(y, extended_feature_matrix_train, weights_RLOG)"
   ]
  },
  {
   "cell_type": "code",
   "execution_count": 53,
   "metadata": {
    "scrolled": true
   },
   "outputs": [
    {
     "data": {
      "text/plain": [
       "0.2785874932686656"
      ]
     },
     "execution_count": 53,
     "metadata": {},
     "output_type": "execute_result"
    }
   ],
   "source": [
    "# test accuracy\n",
    "accuracy(y_test, extended_feature_matrix_test, weights_RLOG)"
   ]
  },
  {
   "cell_type": "code",
   "execution_count": 54,
   "metadata": {},
   "outputs": [],
   "source": [
    "# cross-validation for accuracy\n",
    "rmse_tr_RLOG, rmse_te_RLOG, acc_RLOG = error_accuracy_validation(y, tX, k_fold, degree_RLOG, 'logistic_regression', lambda_RLOG, max_iters_RLOG, gamma_RLOG, seed)"
   ]
  },
  {
   "cell_type": "code",
   "execution_count": 55,
   "metadata": {},
   "outputs": [
    {
     "data": {
      "text/plain": [
       "(0.7272146666666667, 0.021566436928194155)"
      ]
     },
     "execution_count": 55,
     "metadata": {},
     "output_type": "execute_result"
    }
   ],
   "source": [
    "# accuracy mean and std\n",
    "np.mean(acc_RLOG), np.std(acc_RLOG)"
   ]
  },
  {
   "cell_type": "markdown",
   "metadata": {},
   "source": [
    "### Ridge Regression"
   ]
  },
  {
   "cell_type": "markdown",
   "metadata": {},
   "source": [
    "For this model, we use cross-validation to find the best hyper-parameters"
   ]
  },
  {
   "cell_type": "code",
   "execution_count": 56,
   "metadata": {},
   "outputs": [],
   "source": [
    "# seed is updated each time it is used, for unbiased results\n",
    "seed = 6"
   ]
  },
  {
   "cell_type": "code",
   "execution_count": 57,
   "metadata": {},
   "outputs": [],
   "source": [
    "degree_RR = 9\n",
    "lambda_RR = 0.00041753189365604\n",
    "rmse_RR = 0.7402028046388752\n",
    "best_per_degree = [[ 1,  2,  3,  4,  5,  6,  7,  8,  9, 10, 11],\n",
    " [0.0001,\n",
    "  0.0001,\n",
    "  0.0001,\n",
    "  0.0001,\n",
    "  0.00016102620275609394,\n",
    "  0.00032903445623126676,\n",
    "  0.00221221629107045,\n",
    "  0.0017433288221999873,\n",
    "  0.00041753189365604,\n",
    "  0.03039195382313198,\n",
    "  0.04893900918477494],\n",
    " [0.8259859221699424,\n",
    "  0.7845683560286713,\n",
    "  0.7741277820976487,\n",
    "  0.765394011611308,\n",
    "  0.7575835736840003,\n",
    "  0.7528053028955657,\n",
    "  0.7466392103356925,\n",
    "  0.7435133308421813,\n",
    "  0.7402028046388752,\n",
    "  0.7456305727496825,\n",
    "  0.756661484831989]]"
   ]
  },
  {
   "cell_type": "markdown",
   "metadata": {},
   "source": [
    "start_time = time.time()\n",
    "\n",
    "degrees = np.arange(1,12)\n",
    "lambdas = np.logspace(-4, -1, 30)\n",
    "degree_RR, lambda_RR, rmse_RR, best_per_degree = select_best_hyperparams_ridge_regression(y, tX, k_fold, degrees, lambdas, seed)\n",
    "\n",
    "end_time = time.time()\n",
    "print(f\"The execution time is: {end_time-start_time}\")"
   ]
  },
  {
   "cell_type": "code",
   "execution_count": 59,
   "metadata": {},
   "outputs": [
    {
     "data": {
      "text/plain": [
       "{'whiskers': [<matplotlib.lines.Line2D at 0x7f2395af8820>,\n",
       "  <matplotlib.lines.Line2D at 0x7f23481f6280>,\n",
       "  <matplotlib.lines.Line2D at 0x7f2348203850>,\n",
       "  <matplotlib.lines.Line2D at 0x7f2348203be0>,\n",
       "  <matplotlib.lines.Line2D at 0x7f232b8221c0>,\n",
       "  <matplotlib.lines.Line2D at 0x7f232b822550>,\n",
       "  <matplotlib.lines.Line2D at 0x7f232b82aaf0>,\n",
       "  <matplotlib.lines.Line2D at 0x7f232b82ae80>,\n",
       "  <matplotlib.lines.Line2D at 0x7f232b801460>,\n",
       "  <matplotlib.lines.Line2D at 0x7f232b8017f0>,\n",
       "  <matplotlib.lines.Line2D at 0x7f232b80cc70>,\n",
       "  <matplotlib.lines.Line2D at 0x7f232ecbd040>,\n",
       "  <matplotlib.lines.Line2D at 0x7f232ecc75e0>,\n",
       "  <matplotlib.lines.Line2D at 0x7f232ecc7970>,\n",
       "  <matplotlib.lines.Line2D at 0x7f232ecd3f10>,\n",
       "  <matplotlib.lines.Line2D at 0x7f232ecde2e0>,\n",
       "  <matplotlib.lines.Line2D at 0x7f232ece9880>,\n",
       "  <matplotlib.lines.Line2D at 0x7f232ece9c10>,\n",
       "  <matplotlib.lines.Line2D at 0x7f23418441f0>,\n",
       "  <matplotlib.lines.Line2D at 0x7f2341844580>,\n",
       "  <matplotlib.lines.Line2D at 0x7f2341850b20>,\n",
       "  <matplotlib.lines.Line2D at 0x7f2341850eb0>],\n",
       " 'caps': [<matplotlib.lines.Line2D at 0x7f23481f6610>,\n",
       "  <matplotlib.lines.Line2D at 0x7f23481f69a0>,\n",
       "  <matplotlib.lines.Line2D at 0x7f2348203f70>,\n",
       "  <matplotlib.lines.Line2D at 0x7f232b817340>,\n",
       "  <matplotlib.lines.Line2D at 0x7f232b8228e0>,\n",
       "  <matplotlib.lines.Line2D at 0x7f232b822c70>,\n",
       "  <matplotlib.lines.Line2D at 0x7f232b7f4250>,\n",
       "  <matplotlib.lines.Line2D at 0x7f232b7f45e0>,\n",
       "  <matplotlib.lines.Line2D at 0x7f232b801b80>,\n",
       "  <matplotlib.lines.Line2D at 0x7f232b801df0>,\n",
       "  <matplotlib.lines.Line2D at 0x7f232ecbd3d0>,\n",
       "  <matplotlib.lines.Line2D at 0x7f232ecbd760>,\n",
       "  <matplotlib.lines.Line2D at 0x7f232ecc7d00>,\n",
       "  <matplotlib.lines.Line2D at 0x7f232ecd30d0>,\n",
       "  <matplotlib.lines.Line2D at 0x7f232ecde670>,\n",
       "  <matplotlib.lines.Line2D at 0x7f232ecdea00>,\n",
       "  <matplotlib.lines.Line2D at 0x7f232ece9fa0>,\n",
       "  <matplotlib.lines.Line2D at 0x7f232ecf2370>,\n",
       "  <matplotlib.lines.Line2D at 0x7f2341844910>,\n",
       "  <matplotlib.lines.Line2D at 0x7f2341844ca0>,\n",
       "  <matplotlib.lines.Line2D at 0x7f234185a280>,\n",
       "  <matplotlib.lines.Line2D at 0x7f234185a610>],\n",
       " 'boxes': [<matplotlib.lines.Line2D at 0x7f2395af8940>,\n",
       "  <matplotlib.lines.Line2D at 0x7f23482034c0>,\n",
       "  <matplotlib.lines.Line2D at 0x7f232b817df0>,\n",
       "  <matplotlib.lines.Line2D at 0x7f232b82a760>,\n",
       "  <matplotlib.lines.Line2D at 0x7f232b8010d0>,\n",
       "  <matplotlib.lines.Line2D at 0x7f232b80c8e0>,\n",
       "  <matplotlib.lines.Line2D at 0x7f232ecc7250>,\n",
       "  <matplotlib.lines.Line2D at 0x7f232ecd3b80>,\n",
       "  <matplotlib.lines.Line2D at 0x7f232ece94f0>,\n",
       "  <matplotlib.lines.Line2D at 0x7f232ecf2e20>,\n",
       "  <matplotlib.lines.Line2D at 0x7f2341850790>],\n",
       " 'medians': [<matplotlib.lines.Line2D at 0x7f23481f6d30>,\n",
       "  <matplotlib.lines.Line2D at 0x7f232b8176d0>,\n",
       "  <matplotlib.lines.Line2D at 0x7f232b82a040>,\n",
       "  <matplotlib.lines.Line2D at 0x7f232b7f4970>,\n",
       "  <matplotlib.lines.Line2D at 0x7f232b80c1c0>,\n",
       "  <matplotlib.lines.Line2D at 0x7f232ecbdaf0>,\n",
       "  <matplotlib.lines.Line2D at 0x7f232ecd3460>,\n",
       "  <matplotlib.lines.Line2D at 0x7f232ecded90>,\n",
       "  <matplotlib.lines.Line2D at 0x7f232ecf2700>,\n",
       "  <matplotlib.lines.Line2D at 0x7f2341850070>,\n",
       "  <matplotlib.lines.Line2D at 0x7f234185a9a0>],\n",
       " 'fliers': [<matplotlib.lines.Line2D at 0x7f2348203100>,\n",
       "  <matplotlib.lines.Line2D at 0x7f232b817a60>,\n",
       "  <matplotlib.lines.Line2D at 0x7f232b82a3d0>,\n",
       "  <matplotlib.lines.Line2D at 0x7f232b7f4d00>,\n",
       "  <matplotlib.lines.Line2D at 0x7f232b80c550>,\n",
       "  <matplotlib.lines.Line2D at 0x7f232ecbde80>,\n",
       "  <matplotlib.lines.Line2D at 0x7f232ecd37f0>,\n",
       "  <matplotlib.lines.Line2D at 0x7f232ece9160>,\n",
       "  <matplotlib.lines.Line2D at 0x7f232ecf2a90>,\n",
       "  <matplotlib.lines.Line2D at 0x7f2341850400>,\n",
       "  <matplotlib.lines.Line2D at 0x7f234185ad30>],\n",
       " 'means': []}"
      ]
     },
     "execution_count": 59,
     "metadata": {},
     "output_type": "execute_result"
    },
    {
     "data": {
      "image/png": "[encoded data removed]",
      "text/plain": [
       "<Figure size 640x480 with 1 Axes>"
      ]
     },
     "metadata": {},
     "output_type": "display_data"
    }
   ],
   "source": [
    "seed = 7\n",
    "rmses = var_rmse_ridge_reg_per_degree(y, tX, k_fold, best_per_degree[1], seed)\n",
    "plt.boxplot(rmses)\n",
    "plt.show()"
   ]
  },
  {
   "cell_type": "code",
   "execution_count": 60,
   "metadata": {
    "scrolled": true
   },
   "outputs": [
    {
     "data": {
      "text/plain": [
       "(9, 0.00041753189365604, 0.7402028046388752)"
      ]
     },
     "execution_count": 60,
     "metadata": {},
     "output_type": "execute_result"
    }
   ],
   "source": [
    "degree_RR, lambda_RR, rmse_RR"
   ]
  },
  {
   "cell_type": "code",
   "execution_count": 61,
   "metadata": {},
   "outputs": [],
   "source": [
    "# build polynomials\n",
    "extended_feature_matrix_train = build_poly(tX, degree_RR)\n",
    "extended_feature_matrix_test = build_poly(tX_test, degree_RR)"
   ]
  },
  {
   "cell_type": "code",
   "execution_count": 62,
   "metadata": {},
   "outputs": [],
   "source": [
    "weights_RR, loss_RR = ridge_regression(y, extended_feature_matrix_train, lambda_RR)"
   ]
  },
  {
   "cell_type": "code",
   "execution_count": 63,
   "metadata": {
    "scrolled": true
   },
   "outputs": [
    {
     "data": {
      "text/plain": [
       "0.818672"
      ]
     },
     "execution_count": 63,
     "metadata": {},
     "output_type": "execute_result"
    }
   ],
   "source": [
    "# train accuracy\n",
    "accuracy(y, extended_feature_matrix_train, weights_RR)"
   ]
  },
  {
   "cell_type": "code",
   "execution_count": 64,
   "metadata": {
    "scrolled": true
   },
   "outputs": [
    {
     "data": {
      "text/plain": [
       "0.3050183197885393"
      ]
     },
     "execution_count": 64,
     "metadata": {},
     "output_type": "execute_result"
    }
   ],
   "source": [
    "# test accuracy\n",
    "accuracy(y_test, extended_feature_matrix_test, weights_RR)"
   ]
  },
  {
   "cell_type": "code",
   "execution_count": 65,
   "metadata": {},
   "outputs": [],
   "source": [
    "seed = 5\n",
    "# cross-validation for accuracy\n",
    "rmse_tr_RR, rmse_te_RR, acc_RR = error_accuracy_validation(y, tX, k_fold, degree_RR, 'ridge_regression', lambda_RR, 0, 0, seed)"
   ]
  },
  {
   "cell_type": "code",
   "execution_count": 66,
   "metadata": {},
   "outputs": [
    {
     "data": {
      "text/plain": [
       "(0.8188786666666668, 0.0006139402793975001)"
      ]
     },
     "execution_count": 66,
     "metadata": {},
     "output_type": "execute_result"
    }
   ],
   "source": [
    "# accuracy mean and std\n",
    "np.mean(acc_RR), np.std(acc_RR)"
   ]
  },
  {
   "cell_type": "markdown",
   "metadata": {},
   "source": [
    "## Compare RMSE and accuracies"
   ]
  },
  {
   "cell_type": "code",
   "execution_count": 67,
   "metadata": {
    "scrolled": true
   },
   "outputs": [],
   "source": [
    "rmse_tr = [rmse_tr_GD, rmse_tr_SGD, rmse_tr_LS, rmse_tr_RR, rmse_tr_LOG, rmse_tr_RLOG]\n",
    "rmse_te = [rmse_te_GD, rmse_te_SGD, rmse_te_LS, rmse_te_RR, rmse_te_LOG, rmse_te_RLOG]\n",
    "acc = [acc_GD, acc_SGD, acc_LS, acc_RR, acc_LOG, acc_RLOG]"
   ]
  },
  {
   "cell_type": "code",
   "execution_count": 68,
   "metadata": {},
   "outputs": [],
   "source": [
    "names = ['GD', 'SGD', 'LS', 'RidReg', 'LogReg', 'RegLogReg']"
   ]
  },
  {
   "cell_type": "code",
   "execution_count": 69,
   "metadata": {
    "scrolled": false
   },
   "outputs": [
    {
     "data": {
      "image/png": "[encoded data removed]",
      "text/plain": [
       "<Figure size 640x480 with 1 Axes>"
      ]
     },
     "metadata": {},
     "output_type": "display_data"
    }
   ],
   "source": [
    "ax = plt.boxplot(rmse_tr, labels=names)"
   ]
  },
  {
   "cell_type": "code",
   "execution_count": 70,
   "metadata": {
    "scrolled": true
   },
   "outputs": [
    {
     "data": {
      "image/png": "[encoded data removed]",
      "text/plain": [
       "<Figure size 640x480 with 1 Axes>"
      ]
     },
     "metadata": {},
     "output_type": "display_data"
    }
   ],
   "source": [
    "ax = plt.boxplot(rmse_te, labels=names)"
   ]
  },
  {
   "cell_type": "code",
   "execution_count": 71,
   "metadata": {},
   "outputs": [
    {
     "data": {
      "image/png": "[encoded data removed]",
      "text/plain": [
       "<Figure size 640x480 with 1 Axes>"
      ]
     },
     "metadata": {},
     "output_type": "display_data"
    }
   ],
   "source": [
    "ax = plt.boxplot(acc, labels=names)"
   ]
  },
  {
   "cell_type": "code",
   "execution_count": 72,
   "metadata": {
    "scrolled": true
   },
   "outputs": [
    {
     "data": {
      "image/png": "[encoded data removed]",
      "text/plain": [
       "<Figure size 1000x500 with 3 Axes>"
      ]
     },
     "metadata": {},
     "output_type": "display_data"
    }
   ],
   "source": [
    "fig, [ax0, ax1, ax2] = plt.subplots(1, 3, figsize=(10,5))\n",
    "ax0 = ax0.boxplot(rmse_tr, labels = names)\n",
    "ax1 = ax1.boxplot(rmse_te, labels = names)\n",
    "ax2 = ax2.boxplot(acc, labels = names)"
   ]
  },
  {
   "cell_type": "markdown",
   "metadata": {},
   "source": [
    "## Generate predictions and save ouput in csv format for submission:"
   ]
  },
  {
   "cell_type": "code",
   "execution_count": null,
   "metadata": {
    "scrolled": true
   },
   "outputs": [],
   "source": [
    "OUTPUT_PATH = '../data/submission.csv'\n",
    "y_pred = predict_labels(weights_RR, extended_feature_matrix_test)\n",
    "create_csv_submission(ids_test, y_pred, OUTPUT_PATH)"
   ]
  },
  {
   "cell_type": "code",
   "execution_count": null,
   "metadata": {},
   "outputs": [],
   "source": []
  }
 ],
 "metadata": {
  "anaconda-cloud": {},
  "kernelspec": {
   "display_name": "Python 3",
   "language": "python",
   "name": "python3"
  },
  "language_info": {
   "codemirror_mode": {
    "name": "ipython",
    "version": 3
   },
   "file_extension": ".py",
   "mimetype": "text/x-python",
   "name": "python",
   "nbconvert_exporter": "python",
   "pygments_lexer": "ipython3",
   "version": "3.9.7"
  }
 },
 "nbformat": 4,
 "nbformat_minor": 4
}
