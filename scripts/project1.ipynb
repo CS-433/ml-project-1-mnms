{
 "cells": [
  {
   "cell_type": "code",
   "execution_count": 1,
   "metadata": {},
   "outputs": [],
   "source": [
    "# Useful starting lines\n",
    "%matplotlib inline\n",
    "import numpy as np\n",
    "import matplotlib.pyplot as plt\n",
    "%load_ext autoreload\n",
    "%autoreload 2"
   ]
  },
  {
   "cell_type": "markdown",
   "metadata": {},
   "source": [
    "## Load the data (both train and test data) into feature matrix, class labels, and event ids:\n"
   ]
  },
  {
   "cell_type": "code",
   "execution_count": 2,
   "metadata": {},
   "outputs": [],
   "source": [
    "from proj1_helpers import *"
   ]
  },
  {
   "cell_type": "code",
   "execution_count": 3,
   "metadata": {},
   "outputs": [],
   "source": [
    "DATA_TRAIN_PATH = '../data/train.csv'\n",
    "y, train_input_data, ids = load_csv_data(DATA_TRAIN_PATH)"
   ]
  },
  {
   "cell_type": "code",
   "execution_count": 4,
   "metadata": {},
   "outputs": [],
   "source": [
    "DATA_TEST_PATH = '../data/test.csv' \n",
    "y_test, test_input_data, ids_test = load_csv_data(DATA_TEST_PATH)"
   ]
  },
  {
   "cell_type": "code",
   "execution_count": 5,
   "metadata": {
    "scrolled": false
   },
   "outputs": [
    {
     "data": {
      "text/plain": [
       "((250000, 30), (250000,))"
      ]
     },
     "execution_count": 5,
     "metadata": {},
     "output_type": "execute_result"
    }
   ],
   "source": [
    "train_input_data.shape, y.shape"
   ]
  },
  {
   "cell_type": "code",
   "execution_count": 6,
   "metadata": {
    "scrolled": true
   },
   "outputs": [
    {
     "data": {
      "text/plain": [
       "((568238, 30), (568238,))"
      ]
     },
     "execution_count": 6,
     "metadata": {},
     "output_type": "execute_result"
    }
   ],
   "source": [
    "test_input_data.shape, y_test.shape"
   ]
  },
  {
   "cell_type": "markdown",
   "metadata": {},
   "source": [
    "## Preprocess the data"
   ]
  },
  {
   "cell_type": "code",
   "execution_count": 7,
   "metadata": {},
   "outputs": [],
   "source": [
    "from preprocessing import *"
   ]
  },
  {
   "cell_type": "code",
   "execution_count": 8,
   "metadata": {},
   "outputs": [],
   "source": [
    "tX = preprocess_data(train_input_data)"
   ]
  },
  {
   "cell_type": "code",
   "execution_count": 9,
   "metadata": {},
   "outputs": [],
   "source": [
    "tX_test = preprocess_data(test_input_data)"
   ]
  },
  {
   "cell_type": "markdown",
   "metadata": {},
   "source": [
    "## Do your thing crazy machine learning thing here :) "
   ]
  },
  {
   "cell_type": "code",
   "execution_count": 10,
   "metadata": {},
   "outputs": [],
   "source": [
    "from implementations import *\n",
    "from cross_validation import *\n",
    "import time"
   ]
  },
  {
   "cell_type": "markdown",
   "metadata": {},
   "source": [
    "For each model, we will use 4-fold cross-validation to find optimal hyper-parameters. Then we run our model with those parameters and produce the submissions"
   ]
  },
  {
   "cell_type": "code",
   "execution_count": 11,
   "metadata": {},
   "outputs": [],
   "source": [
    "k_fold = 4"
   ]
  },
  {
   "cell_type": "markdown",
   "metadata": {},
   "source": [
    "Then we use 5-fold cross-validation to compute variance of accurancy and loss"
   ]
  },
  {
   "cell_type": "code",
   "execution_count": 12,
   "metadata": {},
   "outputs": [],
   "source": [
    "k_fold_acc = 5"
   ]
  },
  {
   "cell_type": "code",
   "execution_count": 13,
   "metadata": {},
   "outputs": [],
   "source": [
    "# seed change for each model so it is not biased\n",
    "seed = 1"
   ]
  },
  {
   "cell_type": "markdown",
   "metadata": {},
   "source": [
    "### Linear Regression Using Gradient Descent"
   ]
  },
  {
   "cell_type": "code",
   "execution_count": 14,
   "metadata": {},
   "outputs": [],
   "source": [
    "seed = 1"
   ]
  },
  {
   "cell_type": "code",
   "execution_count": null,
   "metadata": {},
   "outputs": [],
   "source": [
    "# cross-validation\n",
    "start_time = time.time()\n",
    "\n",
    "degrees = np.arange(1, 12)\n",
    "max_iters = [10, 50, 80, 100, 250, 500, 1000]\n",
    "gammas = np.logspace(-4, -1, 30)\n",
    "\n",
    "degree_GD, max_iters_GD, gamma_GD, rmse_GD = select_best_hyperparams_least_squares_GD(y, tX, k_fold, degrees, max_iters, gammas, seed)\n",
    "seed += 1\n",
    "\n",
    "end_time = time.time()\n",
    "print(f\"The execution time is: {end_time-start_time}\")"
   ]
  },
  {
   "cell_type": "code",
   "execution_count": null,
   "metadata": {},
   "outputs": [],
   "source": [
    "degree_GD, max_iters_GD, gamma_GD, rmse_GD"
   ]
  },
  {
   "cell_type": "code",
   "execution_count": null,
   "metadata": {},
   "outputs": [],
   "source": [
    "# build polynomials\n",
    "extended_feature_matrix_train = build_poly(tX, degree_GD)\n",
    "extended_feature_matrix_test = build_poly(tX_test, degree_GD)"
   ]
  },
  {
   "cell_type": "code",
   "execution_count": null,
   "metadata": {},
   "outputs": [],
   "source": [
    "initial_w = np.zeros((extended_feature_matrix_train.shape[1]))\n",
    "\n",
    "weights_GD, loss_GD, ws, losses = least_squares_GD_complete(y, extended_feature_matrix_train, initial_w, max_iters_GD, gamma_GD)\n",
    "# display\n",
    "fig, [ax0, ax1] = plt.subplots(1, 2, figsize=(10,5))\n",
    "ax0 = ax0.plot(losses)\n",
    "ax1 = ax1.plot(ws)"
   ]
  },
  {
   "cell_type": "code",
   "execution_count": null,
   "metadata": {},
   "outputs": [],
   "source": [
    "loss_GD"
   ]
  },
  {
   "cell_type": "code",
   "execution_count": null,
   "metadata": {},
   "outputs": [],
   "source": [
    "# train accuracy\n",
    "accuracy(y, extended_feature_matrix_train, weights_GD)"
   ]
  },
  {
   "cell_type": "code",
   "execution_count": null,
   "metadata": {
    "scrolled": true
   },
   "outputs": [],
   "source": [
    "# test accuracy\n",
    "accuracy(y_test, extended_feature_matrix_test, weights_GD)"
   ]
  },
  {
   "cell_type": "code",
   "execution_count": null,
   "metadata": {},
   "outputs": [],
   "source": [
    "# cross-validation for accuracy\n",
    "rmse_tr_GD, rmse_te_GD, acc_GD = accuracy_variance(y, tX, k_fold_acc, degree_GD, 'least_squares_GD', 0, max_iters_GD, gamma_GD, seed)\n",
    "seed += 1"
   ]
  },
  {
   "cell_type": "code",
   "execution_count": null,
   "metadata": {
    "scrolled": true
   },
   "outputs": [],
   "source": [
    "fig, [ax1, ax2] = plt.subplots(1, 2, figsize=(10,5))\n",
    "ax1 = ax1.boxplot([rmse_tr_GD,rmse_te_GD])\n",
    "ax2 = ax2.boxplot(acc_GD)"
   ]
  },
  {
   "cell_type": "markdown",
   "metadata": {},
   "source": [
    "### Linear Regression using SGD"
   ]
  },
  {
   "cell_type": "code",
   "execution_count": null,
   "metadata": {},
   "outputs": [],
   "source": [
    "seed = 3"
   ]
  },
  {
   "cell_type": "code",
   "execution_count": null,
   "metadata": {},
   "outputs": [],
   "source": [
    "# cross-validation\n",
    "start_time = time.time()\n",
    "\n",
    "degrees = np.arange(1, 12)\n",
    "max_iters = [10, 50, 80, 100, 250, 500, 1000, 2500, 5000]\n",
    "gammas = np.logspace(-4, -1, 30)\n",
    "\n",
    "degree_SGD, max_iters_SGD, gamma_SGD, rmse_SGD = select_best_hyperparams_least_squares_SGD(y, tX, k_fold, degrees, max_iters, gammas, seed)\n",
    "seed += 1\n",
    "\n",
    "end_time = time.time()\n",
    "print(f\"The execution time is: {end_time-start_time}\")"
   ]
  },
  {
   "cell_type": "code",
   "execution_count": null,
   "metadata": {},
   "outputs": [],
   "source": [
    "degree_SGD, max_iters_SGD, gamma_SGD, rmse_SGD"
   ]
  },
  {
   "cell_type": "code",
   "execution_count": null,
   "metadata": {},
   "outputs": [],
   "source": [
    "# build polynomials\n",
    "extended_feature_matrix_train = build_poly(tX, degree_SGD)\n",
    "extended_feature_matrix_test = build_poly(tX_test, degree_SGD)"
   ]
  },
  {
   "cell_type": "code",
   "execution_count": null,
   "metadata": {},
   "outputs": [],
   "source": [
    "np.random.seed(42)\n",
    "\n",
    "initial_w = np.zeros((extended_feature_matrix_train.shape[1]))\n",
    "\n",
    "weights_SGD, loss_SGD, ws, losses = least_squares_SGD_complete(y, extended_feature_matrix_train, initial_w, max_iters_SGD, gamma_SGD)\n",
    "\n",
    "# display\n",
    "fig, axes = plt.subplots(1, 2, figsize=(10,5))\n",
    "axes[0] = axes[0].plot(losses)\n",
    "axes[1] = axes[1].plot(ws)"
   ]
  },
  {
   "cell_type": "code",
   "execution_count": null,
   "metadata": {},
   "outputs": [],
   "source": [
    "loss_SGD"
   ]
  },
  {
   "cell_type": "code",
   "execution_count": null,
   "metadata": {},
   "outputs": [],
   "source": [
    "# train accuracy\n",
    "accuracy(y, extended_feature_matrix_train, weights_SGD)"
   ]
  },
  {
   "cell_type": "code",
   "execution_count": null,
   "metadata": {},
   "outputs": [],
   "source": [
    "# test accuracy\n",
    "accuracy(y_test, extended_feature_matrix_test, weights_SGD)"
   ]
  },
  {
   "cell_type": "code",
   "execution_count": null,
   "metadata": {},
   "outputs": [],
   "source": [
    "# cross-validation for accuracy\n",
    "rmse_tr_SGD, rmse_te_SGD, acc_SGD = accuracy_variance(y, tX, k_fold_acc, degree_SGD, 'least_squares_SGD', 0, max_iters_SGD, gamma_SGD, seed)\n",
    "seed += 1"
   ]
  },
  {
   "cell_type": "code",
   "execution_count": null,
   "metadata": {
    "scrolled": true
   },
   "outputs": [],
   "source": [
    "fig, [ax1, ax2] = plt.subplots(1, 2, figsize=(10,5))\n",
    "ax1 = ax1.boxplot([rmse_tr_SGD,rmse_te_SGD])\n",
    "ax2 = ax2.boxplot(acc_SGD)"
   ]
  },
  {
   "cell_type": "markdown",
   "metadata": {},
   "source": [
    "### Least Squares regression"
   ]
  },
  {
   "cell_type": "code",
   "execution_count": null,
   "metadata": {},
   "outputs": [],
   "source": [
    "seed = 5"
   ]
  },
  {
   "cell_type": "code",
   "execution_count": null,
   "metadata": {
    "scrolled": true
   },
   "outputs": [],
   "source": [
    "weights_LS, loss_LS = least_squares(y, tX)"
   ]
  },
  {
   "cell_type": "code",
   "execution_count": null,
   "metadata": {},
   "outputs": [],
   "source": [
    "loss_LS"
   ]
  },
  {
   "cell_type": "code",
   "execution_count": null,
   "metadata": {
    "scrolled": true
   },
   "outputs": [],
   "source": [
    "# train accuracy\n",
    "accuracy(y, tX, weights_LS)"
   ]
  },
  {
   "cell_type": "code",
   "execution_count": null,
   "metadata": {
    "scrolled": true
   },
   "outputs": [],
   "source": [
    "# test accuracy\n",
    "accuracy(y_test, tX_test, weights_LS)"
   ]
  },
  {
   "cell_type": "code",
   "execution_count": null,
   "metadata": {},
   "outputs": [],
   "source": [
    "# cross-validation for accuracy\n",
    "rmse_tr_LS, rmse_te_LS, acc_LS = accuracy_variance(y, tX, k_fold_acc, 1, 'least_squares', 0, 0, 0, seed)\n",
    "seed += 1"
   ]
  },
  {
   "cell_type": "code",
   "execution_count": null,
   "metadata": {},
   "outputs": [],
   "source": [
    "fig, [ax1, ax2] = plt.subplots(1, 2, figsize=(10,5))\n",
    "ax1 = ax1.boxplot([rmse_tr_LS,rmse_te_LS])\n",
    "ax2 = ax2.boxplot(acc_LS)"
   ]
  },
  {
   "cell_type": "markdown",
   "metadata": {},
   "source": [
    "### Ridge Regression"
   ]
  },
  {
   "cell_type": "code",
   "execution_count": null,
   "metadata": {},
   "outputs": [],
   "source": [
    "seed = 6"
   ]
  },
  {
   "cell_type": "code",
   "execution_count": null,
   "metadata": {},
   "outputs": [],
   "source": [
    "start_time = time.time()\n",
    "\n",
    "degrees = np.arange(1,12)\n",
    "lambdas = np.logspace(-4, -1, 30)\n",
    "degree_RR, lambda_RR, rmse_RR = select_best_hyperparams_ridge_regression(y, tX, k_fold, degrees, lambdas, seed)\n",
    "seed += 1\n",
    "\n",
    "end_time = time.time()"
   ]
  },
  {
   "cell_type": "code",
   "execution_count": null,
   "metadata": {},
   "outputs": [],
   "source": [
    "degree_RR, lambda_RR, rmse_RR"
   ]
  },
  {
   "cell_type": "code",
   "execution_count": null,
   "metadata": {},
   "outputs": [],
   "source": [
    "# build polynomials\n",
    "extended_feature_matrix_train = build_poly(tX, degree_RR)\n",
    "extended_feature_matrix_test = build_poly(tX_test, degree_RR)"
   ]
  },
  {
   "cell_type": "code",
   "execution_count": null,
   "metadata": {},
   "outputs": [],
   "source": [
    "weights_RR, loss_RR = ridge_regression(y, extended_feature_matrix_train, lambda_RR)"
   ]
  },
  {
   "cell_type": "code",
   "execution_count": null,
   "metadata": {},
   "outputs": [],
   "source": [
    "loss_RR"
   ]
  },
  {
   "cell_type": "code",
   "execution_count": null,
   "metadata": {
    "scrolled": true
   },
   "outputs": [],
   "source": [
    "# train accuracy\n",
    "accuracy(y, extended_feature_matrix_train, weights_RR)"
   ]
  },
  {
   "cell_type": "code",
   "execution_count": null,
   "metadata": {
    "scrolled": true
   },
   "outputs": [],
   "source": [
    "# test accuracy\n",
    "accuracy(y_test, extended_feature_matrix_test, weights_RR)"
   ]
  },
  {
   "cell_type": "code",
   "execution_count": null,
   "metadata": {},
   "outputs": [],
   "source": [
    "# cross-validation for accuracy\n",
    "rmse_tr_RR, rmse_te_RR, acc_RR = accuracy_variance(y, tX, k_fold_acc, degree_SGD, 'ridge_regression', lambda_RR, 0, 0, seed)\n",
    "seed += 1"
   ]
  },
  {
   "cell_type": "code",
   "execution_count": null,
   "metadata": {},
   "outputs": [],
   "source": [
    "fig, [ax1, ax2] = plt.subplots(1, 2, figsize=(10,5))\n",
    "ax1 = ax1.boxplot([rmse_tr_RR, rmse_te_RR])\n",
    "ax2 = ax2.boxplot(acc_RR)"
   ]
  },
  {
   "cell_type": "markdown",
   "metadata": {},
   "source": [
    "### Logistic regression using gradient descent"
   ]
  },
  {
   "cell_type": "code",
   "execution_count": null,
   "metadata": {},
   "outputs": [],
   "source": [
    "seed = 8"
   ]
  },
  {
   "cell_type": "code",
   "execution_count": null,
   "metadata": {},
   "outputs": [],
   "source": [
    "# cross-validation\n",
    "start_time = time.time()\n",
    "\n",
    "degrees = np.arange(1, 12)\n",
    "max_iters = [10, 50, 80, 100, 250, 500, 1000, 2500]\n",
    "gammas = np.logspace(-4, -1, 30)\n",
    "\n",
    "degree_LOG, max_iters_LOG, gamma_LOG, rmse_LOG = select_best_hyperparams_logistic_regression(y, tX, k_fold, degrees, max_iters, gammas, seed)\n",
    "seed += 1\n",
    "\n",
    "end_time = time.time()\n",
    "print(f\"The execution time is: {end_time-start_time}\")"
   ]
  },
  {
   "cell_type": "code",
   "execution_count": null,
   "metadata": {},
   "outputs": [],
   "source": [
    "degree_LOG, max_iters_LOG, gamma_LOG, rmse_LOG"
   ]
  },
  {
   "cell_type": "code",
   "execution_count": null,
   "metadata": {},
   "outputs": [],
   "source": [
    "# build polynomials\n",
    "extended_feature_matrix_train = build_poly(tX, degree_LOG)\n",
    "extended_feature_matrix_test = build_poly(tX_test, degree_LOG)"
   ]
  },
  {
   "cell_type": "code",
   "execution_count": null,
   "metadata": {},
   "outputs": [],
   "source": [
    "# We need to transform the categories from {-1,1} to {0,1}\n",
    "y_01 = change_11_to_01_categories(y)"
   ]
  },
  {
   "cell_type": "code",
   "execution_count": null,
   "metadata": {
    "scrolled": true
   },
   "outputs": [],
   "source": [
    "initial_w = np.zeros((extended_feature_matrix_train.shape[1]))\n",
    "\n",
    "weights_LOG, loss_LOG = logistic_regression(y_01, extended_feature_matrix_train, initial_w, max_iters_LOG, gamma_LOG)"
   ]
  },
  {
   "cell_type": "code",
   "execution_count": null,
   "metadata": {},
   "outputs": [],
   "source": [
    "loss_LOG"
   ]
  },
  {
   "cell_type": "code",
   "execution_count": null,
   "metadata": {
    "scrolled": true
   },
   "outputs": [],
   "source": [
    "# train accuracy\n",
    "accuracy(y, extended_feature_matrix_train, weights_LOG)"
   ]
  },
  {
   "cell_type": "code",
   "execution_count": null,
   "metadata": {
    "scrolled": false
   },
   "outputs": [],
   "source": [
    "# test accuracy\n",
    "accuracy(y_test, extended_feature_matrix_test, weights_LOG)"
   ]
  },
  {
   "cell_type": "code",
   "execution_count": null,
   "metadata": {},
   "outputs": [],
   "source": [
    "# cross-validation for accuracy\n",
    "rmse_tr_LOG, rmse_te_LOG, acc_LOG = accuracy_variance(y, tX, k_fold_acc, degree_SGD, 'logistic_regression', 0, max_iters_LOG, gamma_LOG, seed)\n",
    "seed += 1"
   ]
  },
  {
   "cell_type": "code",
   "execution_count": null,
   "metadata": {},
   "outputs": [],
   "source": [
    "fig, [ax1, ax2] = plt.subplots(1, 2, figsize=(10,5))\n",
    "ax1 = ax1.boxplot([rmse_tr_LOG, rmse_te_LOG])\n",
    "ax2 = ax2.boxplot(acc_LOG)"
   ]
  },
  {
   "cell_type": "markdown",
   "metadata": {},
   "source": [
    "### Regularized logistic regression using gradient descent"
   ]
  },
  {
   "cell_type": "code",
   "execution_count": null,
   "metadata": {},
   "outputs": [],
   "source": [
    "seed = 10"
   ]
  },
  {
   "cell_type": "code",
   "execution_count": null,
   "metadata": {},
   "outputs": [],
   "source": [
    "# cross-validation\n",
    "start_time = time.time()\n",
    "\n",
    "degrees = np.arange(1, 12)\n",
    "lambdas = np.logspace(-4, -1, 30)\n",
    "max_iters = [10, 50, 80, 100, 250, 500, 1000, 2500]\n",
    "gammas = np.logspace(-4, -1, 30)\n",
    "\n",
    "degree_RLOG, lambda_RLOG, max_iters_RLOG, gamma_RLOG, rmse_RLOG = select_best_hyperparams_reg_logistic_regression(y, tX, k_fold, degrees, lambdas, max_iters, gammas, seed)\n",
    "seed += 1\n",
    "\n",
    "end_time = time.time()\n",
    "print(f\"The execution time is: {end_time-start_time}\")"
   ]
  },
  {
   "cell_type": "code",
   "execution_count": null,
   "metadata": {},
   "outputs": [],
   "source": [
    "degree_RLOG, lambda_RLOG, max_iters_RLOG, gamma_RLOG, rmse_RLOG"
   ]
  },
  {
   "cell_type": "code",
   "execution_count": null,
   "metadata": {},
   "outputs": [],
   "source": [
    "# build polynomials\n",
    "extended_feature_matrix_train = build_poly(tX, degree_RLOG)\n",
    "extended_feature_matrix_test = build_poly(tX_test, degree_RLOG)"
   ]
  },
  {
   "cell_type": "code",
   "execution_count": null,
   "metadata": {},
   "outputs": [],
   "source": [
    "# We need to transform the categories from {-1,1} to {0,1}\n",
    "y_01 = change_11_to_01_categories(y)"
   ]
  },
  {
   "cell_type": "code",
   "execution_count": null,
   "metadata": {},
   "outputs": [],
   "source": [
    "initial_w = np.zeros((extended_feature_matrix_train.shape[1]))\n",
    "\n",
    "weights_RLOG, loss_RLOG = reg_logistic_regression(y_01, extended_feature_matrix_train, lambda_RLOG, initial_w, max_iters_RLOG, gamma_RLOG)"
   ]
  },
  {
   "cell_type": "code",
   "execution_count": null,
   "metadata": {},
   "outputs": [],
   "source": [
    "loss_RLOG"
   ]
  },
  {
   "cell_type": "code",
   "execution_count": null,
   "metadata": {
    "scrolled": true
   },
   "outputs": [],
   "source": [
    "# train accuracy\n",
    "accuracy(y, extended_feature_matrix_train, weights_RLOG)"
   ]
  },
  {
   "cell_type": "code",
   "execution_count": null,
   "metadata": {
    "scrolled": true
   },
   "outputs": [],
   "source": [
    "# test accuracy\n",
    "accuracy(y_test, extended_feature_matrix_test, weights_RLOG)"
   ]
  },
  {
   "cell_type": "code",
   "execution_count": null,
   "metadata": {},
   "outputs": [],
   "source": [
    "# cross-validation for accuracy\n",
    "rmse_tr_RLOG, rmse_te_RLOG, acc_RLOG = accuracy_variance(y, tX, k_fold_acc, degree_SGD, 'logistic_regression', lambda_RLOG, max_iters_RLOG, gamma_RLOG, seed)\n",
    "seed += 1"
   ]
  },
  {
   "cell_type": "code",
   "execution_count": null,
   "metadata": {},
   "outputs": [],
   "source": [
    "fig, [ax1, ax2] = plt.subplots(1, 2, figsize=(10,5))\n",
    "ax1 = ax1.boxplot([rmse_tr_RLOG, rmse_te_RLOG])\n",
    "ax2 = ax2.boxplot(acc_RLOG)"
   ]
  },
  {
   "cell_type": "markdown",
   "metadata": {},
   "source": [
    "## Compare RMSE and accuracies"
   ]
  },
  {
   "cell_type": "code",
   "execution_count": null,
   "metadata": {},
   "outputs": [],
   "source": [
    "rmse_tr = [rmse_tr_GD, rmse_tr_SGD, rmse_tr_LS, rmse_tr_RR, rmse_tr_LOG, rmse_tr_RLOG]\n",
    "rmse_te = [rmse_te_GD, rmse_te_SGD, rmse_te_LS, rmse_te_RR, rmse_te_LOG, rmse_te_RLOG]\n",
    "acc = [acc_GD, acc_SGD, acc_LS, acc_RR, acc_LOG, acc_RLOG]"
   ]
  },
  {
   "cell_type": "code",
   "execution_count": null,
   "metadata": {},
   "outputs": [],
   "source": [
    "names = ['GD', 'SGD', 'LS', 'RidReg', 'LogReg', 'RegLogReg']"
   ]
  },
  {
   "cell_type": "code",
   "execution_count": null,
   "metadata": {
    "scrolled": false
   },
   "outputs": [],
   "source": [
    "ax = plt.boxplot(rmse_tr, labels=names)"
   ]
  },
  {
   "cell_type": "code",
   "execution_count": null,
   "metadata": {
    "scrolled": true
   },
   "outputs": [],
   "source": [
    "ax = plt.boxplot(rmse_te, labels=names)"
   ]
  },
  {
   "cell_type": "code",
   "execution_count": null,
   "metadata": {},
   "outputs": [],
   "source": [
    "ax = plt.boxplot(acc, labels=names)"
   ]
  },
  {
   "cell_type": "code",
   "execution_count": null,
   "metadata": {
    "scrolled": true
   },
   "outputs": [],
   "source": [
    "fig, [ax0, ax1, ax2] = plt.subplots(1, 3, figsize=(10,5))\n",
    "ax0 = ax0.boxplot(rmse_tr, labels = names)\n",
    "ax1 = ax1.boxplot(rmse_te, labels = names)\n",
    "ax2 = ax2.boxplot(acc, labels = names)"
   ]
  },
  {
   "cell_type": "markdown",
   "metadata": {},
   "source": [
    "## Generate predictions and save ouput in csv format for submission:"
   ]
  },
  {
   "cell_type": "code",
   "execution_count": null,
   "metadata": {
    "scrolled": true
   },
   "outputs": [],
   "source": [
    "OUTPUT_PATH = '../data/submission.csv'\n",
    "y_pred = predict_labels(w, extended_feature_matrix_test)\n",
    "create_csv_submission(ids_test, y_pred, OUTPUT_PATH)"
   ]
  },
  {
   "cell_type": "code",
   "execution_count": null,
   "metadata": {},
   "outputs": [],
   "source": []
  }
 ],
 "metadata": {
  "anaconda-cloud": {},
  "kernelspec": {
   "display_name": "Python 3",
   "language": "python",
   "name": "python3"
  },
  "language_info": {
   "codemirror_mode": {
    "name": "ipython",
    "version": 3
   },
   "file_extension": ".py",
   "mimetype": "text/x-python",
   "name": "python",
   "nbconvert_exporter": "python",
   "pygments_lexer": "ipython3",
   "version": "3.9.7"
  }
 },
 "nbformat": 4,
 "nbformat_minor": 4
}
